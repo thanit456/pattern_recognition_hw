{
  "nbformat": 4,
  "nbformat_minor": 0,
  "metadata": {
    "colab": {
      "name": "GMM.ipynb",
      "provenance": [],
      "collapsed_sections": []
    },
    "kernelspec": {
      "name": "python3",
      "display_name": "Python 3"
    }
  },
  "cells": [
    {
      "cell_type": "markdown",
      "metadata": {
        "id": "YOVnbiwMUMtv",
        "colab_type": "text"
      },
      "source": [
        "# T1"
      ]
    },
    {
      "cell_type": "code",
      "metadata": {
        "id": "djP0w1vu7TB0",
        "colab_type": "code",
        "colab": {}
      },
      "source": [
        "%matplotlib inline\n",
        "import numpy as np\n",
        "import matplotlib.pyplot as plt\n",
        "from scipy.stats import norm, multivariate_normal"
      ],
      "execution_count": 0,
      "outputs": []
    },
    {
      "cell_type": "code",
      "metadata": {
        "id": "eVEHfMB88PsR",
        "colab_type": "code",
        "colab": {}
      },
      "source": [
        "# Initialization\n",
        "mean = np.array([[3,3], [2,2], [-3,-3]], dtype='float64')\n",
        "# variance = np.array([[1,1], [1,1], [1,1]])\n",
        "data = np.array([[1,2],\n",
        "                [3,3],\n",
        "                [2,2],\n",
        "                [8,8],\n",
        "                [6,6],\n",
        "                [7,7],\n",
        "                [-3,-3],\n",
        "                [-2,-4],\n",
        "                [7,-7]], dtype='float64')\n",
        "weight = np.array([1/3, 1/3, 1/3], dtype='float64')\n",
        "cov = np.array([np.identity(2), np.identity(2), np.identity(2)], dtype='float64')\n",
        "\n",
        "# weights = weights.reshape(weights.shape[0], 1)"
      ],
      "execution_count": 0,
      "outputs": []
    },
    {
      "cell_type": "code",
      "metadata": {
        "id": "5l9mKeJaDH43",
        "colab_type": "code",
        "colab": {}
      },
      "source": [
        "num_gaussian = 3\n",
        "num_data = len(data)\n",
        "num_iteration = 3\n",
        "\n",
        "loglikelihood = list()\n",
        "\n",
        "# run GMM for 3 steps\n",
        "for step in range(num_iteration):\n",
        "\n",
        " \n",
        " # Expectation step\n",
        "  multi_weight = np.zeros((num_data, num_gaussian), dtype='float64')\n",
        "  prob_multi = np.zeros((num_data, num_gaussian), dtype='float64')\n",
        "  each_likelihood = 1\n",
        "  for n in range(num_data):\n",
        "    for j in range(num_gaussian):\n",
        "      multi_weight[n, j] = multivariate_normal.pdf(data[n], mean=mean[j], cov=cov[j]) * weight[j]\n",
        "      prob_multi[n, j] = multivariate_normal.pdf(data[n], mean=mean[j], cov=cov[j]) * weight[j] / np.sum(multi_weight[n, :j+1], axis=0)\n",
        "\n",
        " \n",
        "  loglikelihood.append(np.sum(multi_weight[n, :], axis=0))\n",
        "\n",
        "  # Maximization step\n",
        "  for j in range(num_gaussian):\n",
        "    temp = 0\n",
        "    weight[j] = 0\n",
        "    cov[j] = np.zeros(2)\n",
        "    for n in range(num_data):\n",
        "      weight[j] += prob_multi[n, j]\n",
        "      temp += prob_multi[n, j]\n",
        "      cov[j] += prob_multi[n, j] * (data[n] - mean[j]).dot((data[n] - mean[j]).T)\n",
        "    cov[j] /= temp\n",
        "    weight[j] /= num_data\n",
        "    mean[j] = np.zeros(2)\n",
        "    for n in range(num_data):\n",
        "      mean[j] += prob_multi[n, j] * data[n]\n",
        "    mean[j] /= temp\n",
        "    for row in range(cov[j].shape[0]):\n",
        "      for col in range(cov[j].shape[1]):\n",
        "        if (row != col):\n",
        "          cov[j][row, col] = 0\n",
        "   \n"
      ],
      "execution_count": 0,
      "outputs": []
    },
    {
      "cell_type": "markdown",
      "metadata": {
        "id": "xEM-UhuqUTRk",
        "colab_type": "text"
      },
      "source": [
        "# T2"
      ]
    },
    {
      "cell_type": "code",
      "metadata": {
        "id": "v7YdhYdt-NkN",
        "colab_type": "code",
        "outputId": "b2b5e4e7-25f7-4fda-ee64-3af25fbc1e3b",
        "colab": {
          "base_uri": "https://localhost:8080/",
          "height": 269
        }
      },
      "source": [
        "three_mixture_likelihood = loglikelihood\n",
        "plt.plot(np.arange(num_iteration), loglikelihood)\n",
        "plt.show()"
      ],
      "execution_count": 0,
      "outputs": [
        {
          "output_type": "display_data",
          "data": {
            "image/png": "[encoded data removed]",
            "text/plain": [
              "<Figure size 432x288 with 1 Axes>"
            ]
          },
          "metadata": {
            "tags": []
          }
        }
      ]
    },
    {
      "cell_type": "markdown",
      "metadata": {
        "id": "4VnYVFVUZtHt",
        "colab_type": "text"
      },
      "source": [
        "# T3"
      ]
    },
    {
      "cell_type": "code",
      "metadata": {
        "id": "t9WFuQ6-8-59",
        "colab_type": "code",
        "outputId": "67c3613e-9441-4de2-8ba6-c865da77161b",
        "colab": {
          "base_uri": "https://localhost:8080/",
          "height": 302
        }
      },
      "source": [
        "# Initialization\n",
        "mean = np.array([[3,3], [-3,-3]], dtype='float64')\n",
        "data = np.array([[1,2],\n",
        "                [3,3],\n",
        "                [2,2],\n",
        "                [8,8],\n",
        "                [6,6],\n",
        "                [7,7],\n",
        "                [-3,-3],\n",
        "                [-2,-4],\n",
        "                [7,-7]], dtype='float64')\n",
        "weight = np.array([1/2, 1/2], dtype='float64')\n",
        "cov = np.array([np.identity(2), np.identity(2)], dtype='float64')\n",
        "\n",
        "num_gaussian = 2\n",
        "num_data = len(data)\n",
        "num_iteration = 3\n",
        "\n",
        "loglikelihood = list()\n",
        "\n",
        "# run GMM for 3 steps\n",
        "for step in range(num_iteration):\n",
        "\n",
        " \n",
        " # Expectation step\n",
        "  multi_weight = np.zeros((num_data, num_gaussian), dtype='float64')\n",
        "  prob_multi = np.zeros((num_data, num_gaussian), dtype='float64')\n",
        "  each_likelihood = 1\n",
        "  for n in range(num_data):\n",
        "    for j in range(num_gaussian):\n",
        "      multi_weight[n, j] = multivariate_normal.pdf(data[n], mean=mean[j], cov=cov[j]) * weight[j]\n",
        "      prob_multi[n, j] = multivariate_normal.pdf(data[n], mean=mean[j], cov=cov[j]) * weight[j] / np.sum(multi_weight[n, :j+1], axis=0)\n",
        "\n",
        " \n",
        "  loglikelihood.append(np.sum(multi_weight[n, :], axis=0))\n",
        "\n",
        "\n",
        "  # Maximization step\n",
        "  for j in range(num_gaussian):\n",
        "    temp = 0\n",
        "    weight[j] = 0\n",
        "    cov[j] = np.zeros(2)\n",
        "    for n in range(num_data):\n",
        "      weight[j] += prob_multi[n, j]\n",
        "      temp += prob_multi[n, j]\n",
        "      cov[j] += prob_multi[n, j] * (data[n] - mean[j]).dot((data[n] - mean[j]).T)\n",
        "    cov[j] /= temp\n",
        "    weight[j] /= num_data\n",
        "    mean[j] = np.zeros(2)\n",
        "    for n in range(num_data):\n",
        "      mean[j] += prob_multi[n, j] * data[n]\n",
        "    mean[j] /= temp\n",
        "    for row in range(cov[j].shape[0]):\n",
        "      for col in range(cov[j].shape[1]):\n",
        "        if (row != col):\n",
        "          cov[j][row, col] = 0\n",
        "          \n",
        "two_mixture_likelihood = loglikelihood\n",
        " \n",
        "print('w[n,j] : ', prob_multi)\n",
        "print('weight : ', weight)\n",
        "print('mean : ', mean)\n",
        "print('covariance : ', cov)"
      ],
      "execution_count": 0,
      "outputs": [
        {
          "output_type": "stream",
          "text": [
            "w[n,j] :  [[1.         0.15957646]\n",
            " [1.         0.12415825]\n",
            " [1.         0.14920738]\n",
            " [1.         0.03868328]\n",
            " [1.         0.06475893]\n",
            " [1.         0.05045001]\n",
            " [1.         0.29481181]\n",
            " [1.         0.30200773]\n",
            " [1.         0.19987372]]\n",
            "weight :  [1.         0.15372529]\n",
            "mean :  [[ 3.22222222  1.55555556]\n",
            " [ 1.2954574  -1.04831306]]\n",
            "covariance :  [[[38.86419753  0.        ]\n",
            "  [ 0.         38.86419753]]\n",
            "\n",
            " [[35.24170001  0.        ]\n",
            "  [ 0.         35.24170001]]]\n"
          ],
          "name": "stdout"
        }
      ]
    },
    {
      "cell_type": "markdown",
      "metadata": {
        "id": "GmqA0mucZvmV",
        "colab_type": "text"
      },
      "source": [
        "# T4"
      ]
    },
    {
      "cell_type": "code",
      "metadata": {
        "id": "m7lMPDphnhF7",
        "colab_type": "code",
        "outputId": "806e443f-acb5-459d-9b6e-629c4b23b999",
        "colab": {
          "base_uri": "https://localhost:8080/",
          "height": 281
        }
      },
      "source": [
        "# 3-mixture is better log likehood more than every iteration\n",
        "plt.title('Log Likelihood graph')\n",
        "plt.plot(np.arange(num_iteration), three_mixture_likelihood, label='3-mixtures')\n",
        "plt.plot(np.arange(num_iteration), two_mixture_likelihood, label='2-mixtures')\n",
        "plt.legend()\n",
        "plt.show()"
      ],
      "execution_count": 0,
      "outputs": [
        {
          "output_type": "display_data",
          "data": {
            "image/png": "[encoded data removed]",
            "text/plain": [
              "<Figure size 432x288 with 1 Axes>"
            ]
          },
          "metadata": {
            "tags": []
          }
        }
      ]
    },
    {
      "cell_type": "code",
      "metadata": {
        "id": "fHxyxXnBvfdA",
        "colab_type": "code",
        "colab": {}
      },
      "source": [
        ""
      ],
      "execution_count": 0,
      "outputs": []
    },
    {
      "cell_type": "code",
      "metadata": {
        "id": "A15M86OOsKyg",
        "colab_type": "code",
        "colab": {}
      },
      "source": [
        ""
      ],
      "execution_count": 0,
      "outputs": []
    }
  ]
}