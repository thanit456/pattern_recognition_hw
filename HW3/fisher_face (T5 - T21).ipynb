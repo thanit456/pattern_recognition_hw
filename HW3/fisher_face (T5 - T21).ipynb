{
 "cells": [
  {
   "cell_type": "code",
   "execution_count": 2,
   "metadata": {
    "colab": {},
    "colab_type": "code",
    "id": "k6zVkb0IwAJ7"
   },
   "outputs": [],
   "source": [
    "%matplotlib inline\n",
    "\n",
    "import scipy.io\n",
    "import numpy as np\n",
    "import matplotlib.pyplot as plt\n",
    "import matplotlib.image as mpimg\n",
    "import pandas as pd\n",
    "from skimage import img_as_float\n",
    "import os"
   ]
  },
  {
   "cell_type": "code",
   "execution_count": 3,
   "metadata": {
    "colab": {
     "base_uri": "https://localhost:8080/",
     "height": 34
    },
    "colab_type": "code",
    "id": "eRqetM8pwJbh",
    "outputId": "096b8d51-f1aa-4970-e399-9036bcfee751"
   },
   "outputs": [],
   "source": [
    "# from google.colab import drive\n",
    "# drive.mount('/content/drive/')"
   ]
  },
  {
   "cell_type": "code",
   "execution_count": 4,
   "metadata": {
    "colab": {
     "base_uri": "https://localhost:8080/",
     "height": 162
    },
    "colab_type": "code",
    "id": "0Z7nupvzwZaD",
    "outputId": "d557a4cc-1da3-440c-b1be-e5810d938dce"
   },
   "outputs": [],
   "source": [
    "# os.chdir('./drive/My Drive')"
   ]
  },
  {
   "cell_type": "code",
   "execution_count": 5,
   "metadata": {
    "colab": {
     "base_uri": "https://localhost:8080/",
     "height": 1000
    },
    "colab_type": "code",
    "id": "PLcf6lp7xIEI",
    "outputId": "8f522140-53e7-4d62-abeb-8b2072fef286"
   },
   "outputs": [],
   "source": [
    "# !ls"
   ]
  },
  {
   "cell_type": "code",
   "execution_count": 6,
   "metadata": {
    "colab": {},
    "colab_type": "code",
    "id": "Y-nGPR7JwAKC"
   },
   "outputs": [],
   "source": [
    "data = scipy.io.loadmat('facedata.mat')"
   ]
  },
  {
   "cell_type": "code",
   "execution_count": 23,
   "metadata": {
    "colab": {
     "base_uri": "https://localhost:8080/",
     "height": 806
    },
    "colab_type": "code",
    "id": "II8QFIgLwAKH",
    "outputId": "df0e6bc3-1da3-4805-8108-eab6466e0c3e",
    "scrolled": true
   },
   "outputs": [
    {
     "name": "stdout",
     "output_type": "stream",
     "text": [
      "people, image :  (40, 10)\n",
      "image size : (56, 46)\n"
     ]
    },
    {
     "data": {
      "image/png": "[encoded data removed]",
      "text/plain": [
       "<Figure size 432x288 with 1 Axes>"
      ]
     },
     "metadata": {
      "needs_background": "light"
     },
     "output_type": "display_data"
    },
    {
     "data": {
      "image/png": "[encoded data removed]",
      "text/plain": [
       "<Figure size 432x288 with 1 Axes>"
      ]
     },
     "metadata": {
      "needs_background": "light"
     },
     "output_type": "display_data"
    },
    {
     "data": {
      "image/png": "[encoded data removed]",
      "text/plain": [
       "<Figure size 432x288 with 1 Axes>"
      ]
     },
     "metadata": {
      "needs_background": "light"
     },
     "output_type": "display_data"
    }
   ],
   "source": [
    "print('people, image : ', data['facedata'].shape)\n",
    "print('image size :', data['facedata'][0, 0].shape)\n",
    "plt.imshow(data['facedata'][0, 0], cmap='gray')\n",
    "plt.show()\n",
    "\n",
    "# print(data['facedata'][0,0])\n",
    "xf = {}\n",
    "xf[0, 0] = img_as_float(data['facedata'][0,0])\n",
    "# print(xf[0, 0])\n",
    "plt.imshow(xf[0,0], cmap='gray')\n",
    "plt.show()\n",
    "\n",
    "x_temp = xf[0, 0]\n",
    "x_temp[0:5, 0:10] = 1\n",
    "# In format, 1 is white\n",
    "plt.imshow(x_temp, cmap='gray')\n",
    "plt.show()"
   ]
  },
  {
   "cell_type": "code",
   "execution_count": 24,
   "metadata": {
    "colab": {},
    "colab_type": "code",
    "id": "pJvHIPYpwAKO"
   },
   "outputs": [],
   "source": [
    "def euclidean_distance(img1, img2):\n",
    "    flatten1 = img1.reshape(-1)\n",
    "    flatten2 = img2.reshape(-1)\n",
    "    return np.sum(((flatten1 - flatten2) ** 2), axis = 0)** 0.5"
   ]
  },
  {
   "cell_type": "code",
   "execution_count": 25,
   "metadata": {
    "colab": {},
    "colab_type": "code",
    "id": "QAMz4Z2KwAKT"
   },
   "outputs": [],
   "source": [
    "xf = dict()\n",
    "for i in range(data['facedata'].shape[0]):\n",
    "    for j in range(data['facedata'].shape[1]):\n",
    "        xf[i, j] = img_as_float(data['facedata'][i, j])"
   ]
  },
  {
   "cell_type": "markdown",
   "metadata": {
    "colab_type": "text",
    "id": "Qp-q4megwAKZ"
   },
   "source": [
    "# T5"
   ]
  },
  {
   "cell_type": "code",
   "execution_count": 26,
   "metadata": {
    "colab": {
     "base_uri": "https://localhost:8080/",
     "height": 34
    },
    "colab_type": "code",
    "id": "tkzDC3YmwAKa",
    "outputId": "bae74c86-8c0b-4c08-8d0a-416b70247325"
   },
   "outputs": [
    {
     "name": "stdout",
     "output_type": "stream",
     "text": [
      "8.173295099737281\n"
     ]
    }
   ],
   "source": [
    "print(euclidean_distance(xf[0,0], xf[1,0]))"
   ]
  },
  {
   "cell_type": "markdown",
   "metadata": {
    "colab_type": "text",
    "id": "hzSK3J7YwAKf"
   },
   "source": [
    "# T6"
   ]
  },
  {
   "cell_type": "code",
   "execution_count": 27,
   "metadata": {
    "colab": {},
    "colab_type": "code",
    "id": "xgH_NWNYwAKh"
   },
   "outputs": [],
   "source": [
    "T = list()\n",
    "D = list()\n",
    "for i in range(data['facedata'].shape[0]):\n",
    "    for j in range(data['facedata'].shape[1]):\n",
    "        if j <= 2:\n",
    "            T.append(img_as_float(data['facedata'][i, j]))\n",
    "        else:\n",
    "            D.append(img_as_float(data['facedata'][i, j]))\n",
    "T = np.array(T)\n",
    "D = np.array(D)"
   ]
  },
  {
   "cell_type": "code",
   "execution_count": 28,
   "metadata": {
    "colab": {
     "base_uri": "https://localhost:8080/",
     "height": 50
    },
    "colab_type": "code",
    "id": "lFSUGrmIwAKn",
    "outputId": "44267af3-2bf2-4b6f-b2f9-20be510b4502"
   },
   "outputs": [
    {
     "name": "stdout",
     "output_type": "stream",
     "text": [
      "(120, 56, 46)\n",
      "(280, 56, 46)\n"
     ]
    }
   ],
   "source": [
    "print(T.shape)\n",
    "print(D.shape)\n"
   ]
  },
  {
   "cell_type": "code",
   "execution_count": 29,
   "metadata": {
    "colab": {},
    "colab_type": "code",
    "id": "eDCJSfRBwAKt"
   },
   "outputs": [],
   "source": [
    "similarity = list()\n",
    "for i in range(len(T)):\n",
    "    temp = list()\n",
    "    for j in range(len(D)):\n",
    "        temp.append(euclidean_distance(T[i], D[j]))\n",
    "    similarity.append(temp)\n",
    "similarity = np.array(similarity)"
   ]
  },
  {
   "cell_type": "code",
   "execution_count": 30,
   "metadata": {
    "colab": {
     "base_uri": "https://localhost:8080/",
     "height": 212
    },
    "colab_type": "code",
    "id": "Om6VAMbOwAK4",
    "outputId": "22a9e160-0a52-4cf0-c77a-710b67d29204"
   },
   "outputs": [
    {
     "data": {
      "image/png": "[encoded data removed]",
      "text/plain": [
       "<Figure size 432x288 with 1 Axes>"
      ]
     },
     "metadata": {
      "needs_background": "light"
     },
     "output_type": "display_data"
    },
    {
     "name": "stdout",
     "output_type": "stream",
     "text": [
      "(120, 280)\n"
     ]
    }
   ],
   "source": [
    "plt.imshow(similarity, cmap='gray')\n",
    "plt.show()\n",
    "print(similarity.shape)"
   ]
  },
  {
   "cell_type": "markdown",
   "metadata": {
    "colab_type": "text",
    "id": "EGjKZebXwAK_"
   },
   "source": [
    "# T7"
   ]
  },
  {
   "cell_type": "code",
   "execution_count": 31,
   "metadata": {
    "colab": {
     "base_uri": "https://localhost:8080/",
     "height": 34
    },
    "colab_type": "code",
    "id": "hObRw8PvOYFz",
    "outputId": "f58d8a65-ddb7-42e1-86d5-8831650d8033"
   },
   "outputs": [
    {
     "name": "stdout",
     "output_type": "stream",
     "text": [
      "(120, 280)\n"
     ]
    }
   ],
   "source": [
    "print(similarity.shape)"
   ]
  },
  {
   "cell_type": "markdown",
   "metadata": {
    "colab_type": "text",
    "id": "--89bDuewALG"
   },
   "source": [
    "# T8"
   ]
  },
  {
   "cell_type": "code",
   "execution_count": 32,
   "metadata": {
    "colab": {},
    "colab_type": "code",
    "id": "7JdBjjr9wALI",
    "scrolled": true
   },
   "outputs": [],
   "source": [
    "def min_comparison(similarity):\n",
    "  min_dist = list()\n",
    "  for i in range(0,similarity.shape[0] // 3):\n",
    "    temp = list()\n",
    "    for j in range(similarity.shape[1]):\n",
    "#       print(similarity[3*i:3*i+3,j])\n",
    "      min_distance = np.min(similarity[3*i:3*i+3, j], axis = 0)\n",
    "      temp.append(min_distance)\n",
    "    min_dist.append(temp)\n",
    "  return np.array(min_dist)"
   ]
  },
  {
   "cell_type": "code",
   "execution_count": 33,
   "metadata": {
    "colab": {},
    "colab_type": "code",
    "id": "mQX_-osUwALN"
   },
   "outputs": [],
   "source": [
    "min_dist = min_comparison(similarity)"
   ]
  },
  {
   "cell_type": "code",
   "execution_count": 34,
   "metadata": {
    "colab": {},
    "colab_type": "code",
    "id": "-V_C0_HcwALY"
   },
   "outputs": [],
   "source": [
    "def confusion_matrix(similarity, thresh):\n",
    "  true_positive = 0\n",
    "  true_negative = 0\n",
    "  false_positive = 0\n",
    "  false_negative = 0\n",
    " \n",
    "  for i in range(similarity.shape[0]):\n",
    "    for j in range(similarity.shape[1]):\n",
    "      if i == j // 7:\n",
    "        if similarity[i, j] > thresh:\n",
    "          false_negative += 1\n",
    "        else:\n",
    "          true_positive += 1\n",
    "      else:\n",
    "        if similarity[i, j] > thresh:\n",
    "          true_negative += 1\n",
    "        else:\n",
    "          false_positive += 1\n",
    "      \n",
    "  return np.array([[true_positive, false_positive], [false_negative, true_negative]])\n",
    "        \n",
    "      "
   ]
  },
  {
   "cell_type": "code",
   "execution_count": 35,
   "metadata": {
    "colab": {
     "base_uri": "https://localhost:8080/",
     "height": 50
    },
    "colab_type": "code",
    "id": "ZeXUkR0mjYON",
    "outputId": "d4ea0a41-680a-48fe-ee5f-398db13c5b22"
   },
   "outputs": [
    {
     "data": {
      "text/plain": [
       "array([[ 279, 4984],\n",
       "       [   1, 5936]])"
      ]
     },
     "execution_count": 35,
     "metadata": {},
     "output_type": "execute_result"
    }
   ],
   "source": [
    "confusion_mat = confusion_matrix(min_dist, 10)\n",
    "confusion_mat"
   ]
  },
  {
   "cell_type": "code",
   "execution_count": 36,
   "metadata": {
    "colab": {},
    "colab_type": "code",
    "id": "12iUG0a0cDCJ"
   },
   "outputs": [],
   "source": [
    "def calculate_TPR_FPR(confusion_matrix):\n",
    "  true_positive = confusion_matrix[0, 0]\n",
    "  false_positive = confusion_matrix[0, 1]\n",
    "  false_negative = confusion_matrix[1, 0]\n",
    "  true_negative = confusion_matrix[1, 1]\n",
    "  if (true_positive + false_negative == 0 or false_positive + true_negative == 0):\n",
    "    TPR = -1\n",
    "    FPR = -1\n",
    "  else:\n",
    "    TPR = true_positive / (true_positive + false_negative)\n",
    "    FPR = false_positive / (true_negative + false_positive)\n",
    "#   print('true positive rate :', TPR)\n",
    "#   print('false positive rate :', FPR)\n",
    "  return (TPR, FPR)"
   ]
  },
  {
   "cell_type": "code",
   "execution_count": 37,
   "metadata": {
    "colab": {
     "base_uri": "https://localhost:8080/",
     "height": 34
    },
    "colab_type": "code",
    "id": "KWduMErNK9zm",
    "outputId": "4c7be043-f32d-48bb-95cf-fa83ffaac1eb"
   },
   "outputs": [
    {
     "data": {
      "text/plain": [
       "(0.9964285714285714, 0.4564102564102564)"
      ]
     },
     "execution_count": 37,
     "metadata": {},
     "output_type": "execute_result"
    }
   ],
   "source": [
    "calculate_TPR_FPR(confusion_mat)"
   ]
  },
  {
   "cell_type": "markdown",
   "metadata": {
    "colab_type": "text",
    "id": "mDjm6P-CA9yO"
   },
   "source": [
    "# T9 & T10\n"
   ]
  },
  {
   "cell_type": "code",
   "execution_count": 38,
   "metadata": {
    "colab": {},
    "colab_type": "code",
    "id": "OFOQBN6X_UIx"
   },
   "outputs": [],
   "source": [
    "def evaluate_ROC(similarity, start_thresh, end_thresh, step_thresh):\n",
    "  roc_x = list()\n",
    "  roc_y = list()\n",
    "  for thresh in np.arange(start_thresh, end_thresh, step_thresh):\n",
    "    similar_confusion_mat = confusion_matrix(similarity, thresh)\n",
    "    TPR, FPR = calculate_TPR_FPR(similar_confusion_mat)\n",
    "    roc_x.append(FPR)\n",
    "    roc_y.append(TPR)\n",
    "  return (roc_x, roc_y)"
   ]
  },
  {
   "cell_type": "code",
   "execution_count": 39,
   "metadata": {
    "colab": {
     "base_uri": "https://localhost:8080/",
     "height": 295
    },
    "colab_type": "code",
    "id": "IUW48WfyBA_n",
    "outputId": "f8997c0a-a9ee-4948-85e7-cd095d820f8e"
   },
   "outputs": [
    {
     "data": {
      "image/png": "[encoded data removed]",
      "text/plain": [
       "<Figure size 432x288 with 1 Axes>"
      ]
     },
     "metadata": {
      "needs_background": "light"
     },
     "output_type": "display_data"
    }
   ],
   "source": [
    "roc_x, roc_y = evaluate_ROC(min_dist, 0, 10, 0.01)\n",
    "roc_x = np.array(roc_x)\n",
    "roc_y = np.array(roc_y)\n",
    "plt.grid(True)\n",
    "plt.plot(roc_x, roc_y)\n",
    "plt.plot(roc_x, 1-roc_x)\n",
    "plt.title('ROC Graph')\n",
    "plt.xlabel('false alarm rate')\n",
    "plt.ylabel('true positive rate')\n",
    "plt.legend(['ROC', 'EER'])\n",
    "plt.show()"
   ]
  },
  {
   "cell_type": "markdown",
   "metadata": {},
   "source": [
    "at recall 0.1%"
   ]
  },
  {
   "cell_type": "code",
   "execution_count": 40,
   "metadata": {
    "colab": {
     "base_uri": "https://localhost:8080/",
     "height": 34
    },
    "colab_type": "code",
    "id": "sjWfprieBBC-",
    "outputId": "5f47f18b-9585-46ff-d723-80cc751949d6"
   },
   "outputs": [
    {
     "name": "stdout",
     "output_type": "stream",
     "text": [
      "FAR at recall 0.1% : 0.7535714285714286\n"
     ]
    }
   ],
   "source": [
    "FAR_index = np.max(np.where(roc_x < 0.0102),axis=1)\n",
    "FAR_val = roc_y[FAR_index][0]\n",
    "print('FAR at recall 0.1% :', FAR_val)"
   ]
  },
  {
   "cell_type": "markdown",
   "metadata": {
    "colab_type": "text",
    "id": "UIb403tyHmEY"
   },
   "source": [
    "# T11"
   ]
  },
  {
   "cell_type": "code",
   "execution_count": 41,
   "metadata": {
    "colab": {
     "base_uri": "https://localhost:8080/",
     "height": 286
    },
    "colab_type": "code",
    "id": "T4YAu1pFBBLR",
    "outputId": "cbaa1a9a-a917-4544-bd8f-4224b25d912c"
   },
   "outputs": [
    {
     "name": "stdout",
     "output_type": "stream",
     "text": [
      "(56, 46)\n"
     ]
    },
    {
     "data": {
      "image/png": "[encoded data removed]",
      "text/plain": [
       "<Figure size 432x288 with 1 Axes>"
      ]
     },
     "metadata": {
      "needs_background": "light"
     },
     "output_type": "display_data"
    }
   ],
   "source": [
    "meanface = np.average(T, axis=0)\n",
    "print(meanface.shape)\n",
    "plt.imshow(meanface, cmap='gray')\n",
    "plt.show()"
   ]
  },
  {
   "cell_type": "markdown",
   "metadata": {
    "colab_type": "text",
    "id": "dMe-RXMDLAvz"
   },
   "source": [
    "# T12"
   ]
  },
  {
   "cell_type": "code",
   "execution_count": 42,
   "metadata": {
    "colab": {
     "base_uri": "https://localhost:8080/",
     "height": 50
    },
    "colab_type": "code",
    "id": "PzL1qU-5BBNt",
    "outputId": "6793ca4c-34af-4ab2-ab6d-64f789ae563b"
   },
   "outputs": [
    {
     "name": "stdout",
     "output_type": "stream",
     "text": [
      "(2576, 2576)\n",
      "119\n"
     ]
    }
   ],
   "source": [
    "# size of covariance matrix is 2576x2576\n",
    "# rank of covariance matrix is 119\n",
    "X_hat = T - meanface\n",
    "X_hat = X_hat.reshape(120, -1).T\n",
    "cov_mat = X_hat.dot(X_hat.T)\n",
    "print(cov_mat.shape)\n",
    "print(np.linalg.matrix_rank(cov_mat))"
   ]
  },
  {
   "cell_type": "markdown",
   "metadata": {
    "colab_type": "text",
    "id": "omOdMfccN1Iz"
   },
   "source": [
    "# T13"
   ]
  },
  {
   "cell_type": "code",
   "execution_count": 43,
   "metadata": {
    "colab": {
     "base_uri": "https://localhost:8080/",
     "height": 50
    },
    "colab_type": "code",
    "id": "xS5_HiNmN0Oq",
    "outputId": "3981f88b-056a-40d0-88c2-bcc32f1c7836"
   },
   "outputs": [
    {
     "name": "stdout",
     "output_type": "stream",
     "text": [
      "(120, 120)\n",
      "119\n"
     ]
    }
   ],
   "source": [
    "# size of Gram matrix is 120x120\n",
    "# rank of Gram matrix is 119\n",
    "gram_mat = X_hat.T.dot(X_hat)\n",
    "print(gram_mat.shape)\n",
    "print(np.linalg.matrix_rank(gram_mat))"
   ]
  },
  {
   "cell_type": "markdown",
   "metadata": {
    "colab_type": "text",
    "id": "xbjx1bpWSwTJ"
   },
   "source": [
    "# T14"
   ]
  },
  {
   "cell_type": "code",
   "execution_count": 44,
   "metadata": {
    "colab": {
     "base_uri": "https://localhost:8080/",
     "height": 50
    },
    "colab_type": "code",
    "id": "msYwabBPQOxD",
    "outputId": "79a42a36-7dcb-4cc1-c90e-21c4ac66bea8"
   },
   "outputs": [
    {
     "name": "stdout",
     "output_type": "stream",
     "text": [
      "symmetric\n",
      "count the number of nonzero eigen values :  120\n"
     ]
    }
   ],
   "source": [
    "if (np.array_equal(gram_mat,gram_mat.T)):\n",
    "  print('symmetric')\n",
    "  print('count the number of nonzero eigen values : ', np.count_nonzero(np.linalg.eigh(gram_mat)[0]))\n",
    "else:\n",
    "  print('non-symmetric')\n",
    "  print('count the number of nonzero eigen values : ', np.count_nonzero(np.linalg.eig(gram_mat)))\n",
    "  "
   ]
  },
  {
   "cell_type": "markdown",
   "metadata": {
    "colab_type": "text",
    "id": "IezSIViTXqNU"
   },
   "source": [
    "# T15"
   ]
  },
  {
   "cell_type": "code",
   "execution_count": 45,
   "metadata": {
    "colab": {},
    "colab_type": "code",
    "id": "t8mc3UX_TlsG"
   },
   "outputs": [],
   "source": [
    "gram_eig_vals, gram_eig_vecs = np.linalg.eigh(gram_mat)"
   ]
  },
  {
   "cell_type": "code",
   "execution_count": 46,
   "metadata": {
    "colab": {},
    "colab_type": "code",
    "id": "zPaSCD6WY5oJ"
   },
   "outputs": [],
   "source": [
    "gram_eig_vals = np.where(abs(gram_eig_vals) < 1e-5, 0, gram_eig_vals)"
   ]
  },
  {
   "cell_type": "code",
   "execution_count": 47,
   "metadata": {
    "colab": {
     "base_uri": "https://localhost:8080/",
     "height": 521
    },
    "colab_type": "code",
    "id": "XOjDDjG6ZjuE",
    "outputId": "23255e12-f014-4808-cb52-4254c9f7e094"
   },
   "outputs": [
    {
     "name": "stdout",
     "output_type": "stream",
     "text": [
      "[1.42392971e+03 8.75375177e+02 5.58624400e+02 4.07347157e+02\n",
      " 3.71021274e+02 2.63280801e+02 2.03396990e+02 1.90965101e+02\n",
      " 1.66548056e+02 1.43570551e+02 1.22951200e+02 1.04788229e+02\n",
      " 9.36606993e+01 8.52020934e+01 8.00790884e+01 7.22926270e+01\n",
      " 6.92896016e+01 6.55557914e+01 6.16791259e+01 5.90743553e+01\n",
      " 5.42659430e+01 5.19180210e+01 4.60439029e+01 4.49517564e+01\n",
      " 4.38154370e+01 4.17882938e+01 4.04839086e+01 3.80160594e+01\n",
      " 3.72939497e+01 3.42784031e+01 3.38082909e+01 3.24110643e+01\n",
      " 3.01160763e+01 2.88090967e+01 2.76934934e+01 2.72362796e+01\n",
      " 2.63193795e+01 2.55181270e+01 2.42531018e+01 2.33566654e+01\n",
      " 2.24888684e+01 2.22128871e+01 2.13271981e+01 2.05964187e+01\n",
      " 1.97567698e+01 1.91068901e+01 1.86898335e+01 1.81386227e+01\n",
      " 1.79801629e+01 1.69617092e+01 1.63867949e+01 1.56952212e+01\n",
      " 1.56409226e+01 1.50995911e+01 1.45534702e+01 1.38473352e+01\n",
      " 1.37682769e+01 1.35139271e+01 1.31342609e+01 1.26436508e+01\n",
      " 1.25449028e+01 1.22504780e+01 1.19612169e+01 1.17761188e+01\n",
      " 1.13660679e+01 1.11035079e+01 1.06549575e+01 1.03355906e+01\n",
      " 9.99124383e+00 9.86526053e+00 9.56496785e+00 9.40406390e+00\n",
      " 9.36396662e+00 8.95945198e+00 8.67215720e+00 8.52529596e+00\n",
      " 8.36769339e+00 8.22360688e+00 7.99193453e+00 7.87207485e+00\n",
      " 7.66085696e+00 7.34221210e+00 7.15178119e+00 7.01566211e+00\n",
      " 6.71571512e+00 6.55937510e+00 6.48667412e+00 6.39912804e+00\n",
      " 6.07957689e+00 5.99683335e+00 5.97416667e+00 5.86818443e+00\n",
      " 5.63739658e+00 5.54588226e+00 5.49586571e+00 5.28744901e+00\n",
      " 5.18058886e+00 4.96557523e+00 4.84416411e+00 4.51980627e+00\n",
      " 4.42540052e+00 4.38079609e+00 4.36539783e+00 4.30629265e+00\n",
      " 4.08710908e+00 3.85503768e+00 3.73729252e+00 3.60769552e+00\n",
      " 3.48280728e+00 3.33786964e+00 3.17991974e+00 3.13382008e+00\n",
      " 3.07484004e+00 2.73615457e+00 2.57040486e+00 2.55027268e+00\n",
      " 2.09754295e+00 1.69989241e+00 1.09424775e+00 0.00000000e+00]\n"
     ]
    }
   ],
   "source": [
    "gram_eig_vals = gram_eig_vals[::-1]\n",
    "gram_eig_vecs = gram_eig_vecs[:, ::-1]\n",
    "print(gram_eig_vals)"
   ]
  },
  {
   "cell_type": "code",
   "execution_count": 48,
   "metadata": {
    "colab": {
     "base_uri": "https://localhost:8080/",
     "height": 34
    },
    "colab_type": "code",
    "id": "q-xPT8yhZjzX",
    "outputId": "b6ca412f-8bb9-41f3-b0f3-92c4126124c4"
   },
   "outputs": [
    {
     "name": "stdout",
     "output_type": "stream",
     "text": [
      "count the number of non-zero eigenvalues :  119\n"
     ]
    }
   ],
   "source": [
    "print('count the number of non-zero eigenvalues : ', np.count_nonzero(gram_eig_vals))"
   ]
  },
  {
   "cell_type": "markdown",
   "metadata": {
    "colab_type": "text",
    "id": "qvn6vLjYa_re"
   },
   "source": [
    "# T16"
   ]
  },
  {
   "cell_type": "code",
   "execution_count": 49,
   "metadata": {
    "colab": {
     "base_uri": "https://localhost:8080/",
     "height": 295
    },
    "colab_type": "code",
    "id": "GkjAAXJiZj3s",
    "outputId": "e93c4280-fa6c-4d6c-e92c-ede033a4f844"
   },
   "outputs": [
    {
     "data": {
      "image/png": "[encoded data removed]",
      "text/plain": [
       "<Figure size 432x288 with 1 Axes>"
      ]
     },
     "metadata": {
      "needs_background": "light"
     },
     "output_type": "display_data"
    }
   ],
   "source": [
    "plt.title('Eigenvalues graph')\n",
    "plt.xlabel('#index of eigenvalue')\n",
    "plt.ylabel('the value of eigenvalue')\n",
    "plt.plot(gram_eig_vals)\n",
    "plt.show()"
   ]
  },
  {
   "cell_type": "code",
   "execution_count": 50,
   "metadata": {
    "colab": {},
    "colab_type": "code",
    "id": "GVOiIOO5Zj6e"
   },
   "outputs": [],
   "source": [
    "# eigenvalue is variance of eigenvector , we want to keep 95% data -> how many eigenvectors should I use?"
   ]
  },
  {
   "cell_type": "markdown",
   "metadata": {
    "colab_type": "text",
    "id": "ewxPs56UcTgz"
   },
   "source": [
    "# T17"
   ]
  },
  {
   "cell_type": "code",
   "execution_count": 51,
   "metadata": {
    "colab": {
     "base_uri": "https://localhost:8080/",
     "height": 1000
    },
    "colab_type": "code",
    "id": "_zGHuK9sp17Q",
    "outputId": "a7530d9b-da5a-4a42-a1df-957b9441a319"
   },
   "outputs": [
    {
     "data": {
      "image/png": "[encoded data removed]",
      "text/plain": [
       "<Figure size 432x288 with 1 Axes>"
      ]
     },
     "metadata": {
      "needs_background": "light"
     },
     "output_type": "display_data"
    },
    {
     "data": {
      "image/png": "[encoded data removed]",
      "text/plain": [
       "<Figure size 432x288 with 1 Axes>"
      ]
     },
     "metadata": {
      "needs_background": "light"
     },
     "output_type": "display_data"
    },
    {
     "data": {
      "image/png": "[encoded data removed]",
      "text/plain": [
       "<Figure size 432x288 with 1 Axes>"
      ]
     },
     "metadata": {
      "needs_background": "light"
     },
     "output_type": "display_data"
    },
    {
     "data": {
      "image/png": "[encoded data removed]",
      "text/plain": [
       "<Figure size 432x288 with 1 Axes>"
      ]
     },
     "metadata": {
      "needs_background": "light"
     },
     "output_type": "display_data"
    },
    {
     "data": {
      "image/png": "[encoded data removed]",
      "text/plain": [
       "<Figure size 432x288 with 1 Axes>"
      ]
     },
     "metadata": {
      "needs_background": "light"
     },
     "output_type": "display_data"
    },
    {
     "data": {
      "image/png": "[encoded data removed]",
      "text/plain": [
       "<Figure size 432x288 with 1 Axes>"
      ]
     },
     "metadata": {
      "needs_background": "light"
     },
     "output_type": "display_data"
    },
    {
     "data": {
      "image/png": "[encoded data removed]",
      "text/plain": [
       "<Figure size 432x288 with 1 Axes>"
      ]
     },
     "metadata": {
      "needs_background": "light"
     },
     "output_type": "display_data"
    },
    {
     "data": {
      "image/png": "[encoded data removed]",
      "text/plain": [
       "<Figure size 432x288 with 1 Axes>"
      ]
     },
     "metadata": {
      "needs_background": "light"
     },
     "output_type": "display_data"
    },
    {
     "data": {
      "image/png": "[encoded data removed]",
      "text/plain": [
       "<Figure size 432x288 with 1 Axes>"
      ]
     },
     "metadata": {
      "needs_background": "light"
     },
     "output_type": "display_data"
    },
    {
     "data": {
      "image/png": "[encoded data removed]",
      "text/plain": [
       "<Figure size 432x288 with 1 Axes>"
      ]
     },
     "metadata": {
      "needs_background": "light"
     },
     "output_type": "display_data"
    }
   ],
   "source": [
    "num_eig = 10\n",
    "\n",
    "gram_eig_val, gram_eig_vec = np.linalg.eigh(gram_mat)\n",
    "\n",
    "gram_eig_val = np.where(abs(gram_eig_val) < 1e-5, 0, gram_eig_val)\n",
    "gram_eig_val = gram_eig_val[::-1]\n",
    "gram_eig_vec = gram_eig_vec[:, ::-1]\n",
    "\n",
    "for k in range(num_eig):\n",
    "    \n",
    "  # normalize\n",
    "  gram_vec = gram_eig_vec[:, k] / np.linalg.norm(gram_eig_vec[:, k], axis = 0)\n",
    "  \n",
    "  img = X_hat.dot(gram_vec)\n",
    "   \n",
    "  # renormalize \n",
    "  img = img / np.linalg.norm(img, axis = 0, ord=2)\n",
    "\n",
    "  img = img.reshape(56, 46)\n",
    "  \n",
    "\n",
    "  plt.imshow(img, cmap='gray')\n",
    "  plt.show()\n"
   ]
  },
  {
   "cell_type": "markdown",
   "metadata": {
    "colab_type": "text",
    "id": "cf7aX-lQo9AF"
   },
   "source": [
    "# T18"
   ]
  },
  {
   "cell_type": "markdown",
   "metadata": {
    "colab_type": "text",
    "id": "h4J6UOUwiiAl"
   },
   "source": [
    "white part is important part on images but black is not"
   ]
  },
  {
   "cell_type": "markdown",
   "metadata": {
    "colab_type": "text",
    "id": "gG_SC6f405y-"
   },
   "source": [
    "The big variance is proprtional to the high eigenvalue. Therefore, The biggest variance are capture in the two eigenvector"
   ]
  },
  {
   "cell_type": "markdown",
   "metadata": {
    "colab_type": "text",
    "id": "huQ2p7ew1KU9"
   },
   "source": [
    "# T19"
   ]
  },
  {
   "cell_type": "code",
   "execution_count": 52,
   "metadata": {
    "colab": {},
    "colab_type": "code",
    "id": "Lv6HSJ4BZkBn"
   },
   "outputs": [],
   "source": [
    "def projection_value(img, k = 10):\n",
    "  eig_val_gram, eig_vec_gram = np.linalg.eigh(gram_mat)\n",
    "  eig_val_gram = eig_val_gram[::-1]\n",
    "  eig_vec_gram = eig_vec_gram[:, ::-1]\n",
    "  \n",
    "  eig_vec_gram2cov = X_hat.dot(eig_vec_gram)\n",
    "\n",
    "  # normalize \n",
    "  for j in range(eig_vec_gram2cov.shape[1]):\n",
    "    eig_vec_gram2cov[:, j] = eig_vec_gram2cov[:, j] / np.linalg.norm(eig_vec_gram2cov[:, j], axis=0)\n",
    "  \n",
    "  projection_gram = eig_vec_gram2cov[:, :k].T.dot((img - meanface).reshape(-1, 1))\n",
    " \n",
    "  return projection_gram.reshape(-1)\n"
   ]
  },
  {
   "cell_type": "code",
   "execution_count": 53,
   "metadata": {
    "colab": {},
    "colab_type": "code",
    "id": "KSRSFz7S2M3Z"
   },
   "outputs": [],
   "source": [
    "projected_T = list()\n",
    "for i in range(120):\n",
    "  projected_T.append(projection_value(T[i]))\n",
    "projected_T = np.array(projected_T)\n",
    "\n",
    "projected_D = list()\n",
    "for i in range(280):\n",
    "  projected_D.append(projection_value(D[i]))\n",
    "projected_D = np.array(projected_D)"
   ]
  },
  {
   "cell_type": "code",
   "execution_count": 54,
   "metadata": {
    "colab": {},
    "colab_type": "code",
    "id": "QzyegR5PxF1m"
   },
   "outputs": [],
   "source": [
    "projected_similarity = list()\n",
    "for i in range(len(T)):\n",
    "    temp = list()\n",
    "    for j in range(len(D)):\n",
    "        calculated = (np.sum((projected_T[i] - projected_D[j]) ** 2) ** 0.5)\n",
    "        temp.append(calculated)\n",
    "    projected_similarity.append(temp)\n",
    "projected_similarity = np.array(projected_similarity)"
   ]
  },
  {
   "cell_type": "code",
   "execution_count": 55,
   "metadata": {
    "colab": {
     "base_uri": "https://localhost:8080/",
     "height": 295
    },
    "colab_type": "code",
    "id": "dfcPuUvWxXAf",
    "outputId": "cb9d4935-6eaa-416d-c03a-01158154ba64"
   },
   "outputs": [
    {
     "data": {
      "image/png": "[encoded data removed]",
      "text/plain": [
       "<Figure size 432x288 with 1 Axes>"
      ]
     },
     "metadata": {
      "needs_background": "light"
     },
     "output_type": "display_data"
    }
   ],
   "source": [
    "# projected_confusion_mat = confusion_matrix(projected_similarity)\n",
    "\n",
    "projected_roc_x, projected_roc_y = evaluate_ROC(min_comparison(projected_similarity), 0, 10, 0.01)\n",
    "\n",
    "projected_roc_x = np.array(projected_roc_x)\n",
    "projected_roc_y = np.array(projected_roc_y)\n",
    "\n",
    "\n",
    "plt.grid(True)\n",
    "plt.plot(projected_roc_x, projected_roc_y)\n",
    "plt.plot(projected_roc_x, 1 - projected_roc_x)\n",
    "plt.title('ROC Graph')\n",
    "plt.xlabel('false alarm rate')\n",
    "plt.ylabel('true positive rate')\n",
    "plt.legend(['ROC', 'EER'])\n",
    "plt.show()"
   ]
  },
  {
   "cell_type": "markdown",
   "metadata": {
    "colab_type": "text",
    "id": "yCXipmeUjeNv"
   },
   "source": [
    "at 0.1% recall "
   ]
  },
  {
   "cell_type": "code",
   "execution_count": 56,
   "metadata": {},
   "outputs": [
    {
     "name": "stdout",
     "output_type": "stream",
     "text": [
      "FAR at recall 0.1% : 0.7464285714285714\n"
     ]
    }
   ],
   "source": [
    "FAR_index = np.max(np.where(projected_roc_x < 0.011),axis=1)\n",
    "FAR_val = projected_roc_y[FAR_index][0]\n",
    "print('FAR at recall 0.1% :', FAR_val)"
   ]
  },
  {
   "cell_type": "markdown",
   "metadata": {
    "colab_type": "text",
    "id": "Y8Wbqp1FQiM-"
   },
   "source": [
    "# T20"
   ]
  },
  {
   "cell_type": "code",
   "execution_count": null,
   "metadata": {
    "colab": {
     "base_uri": "https://localhost:8080/",
     "height": 295
    },
    "colab_type": "code",
    "id": "nxCfRpXrWGRy",
    "outputId": "34440173-4d09-4162-92a7-0e9441943b2e"
   },
   "outputs": [],
   "source": [
    "for k in range(5, 15):\n",
    "  projected_T = list()\n",
    "  for i in range(120):\n",
    "    projected_T.append(projection_value(T[i], k=k))\n",
    "  projected_T = np.array(projected_T)\n",
    "\n",
    "  projected_D = list()\n",
    "  for i in range(280):\n",
    "    projected_D.append(projection_value(D[i], k=k))\n",
    "  projected_D = np.array(projected_D)\n",
    "  projected_similarity = list()\n",
    "  for i in range(len(T)):\n",
    "      temp = list()\n",
    "      for j in range(len(D)):\n",
    "          calculated = (np.sum((projected_T[i] - projected_D[j]) ** 2) ** 0.5)\n",
    "          temp.append(calculated)\n",
    "      projected_similarity.append(temp)\n",
    "      \n",
    "  projected_similarity = np.array(projected_similarity)\n",
    "  projected_roc_x, projected_roc_y = evaluate_ROC(min_comparison(projected_similarity), 0, 10, 0.01)\n",
    "\n",
    "  projected_roc_x = np.array(projected_roc_x)\n",
    "  projected_roc_y = np.array(projected_roc_y)\n",
    "\n",
    "  plt.grid(True)\n",
    "  plt.plot(projected_roc_x, projected_roc_y, label='ROC-k:' + str(k))\n",
    "plt.plot(projected_roc_x, 1 - projected_roc_x)\n",
    "plt.title('ROC Graph')  \n",
    "plt.xlabel('false alarm rate')\n",
    "plt.ylabel('true positive rate')\n",
    "plt.legend()\n",
    "plt.show()"
   ]
  },
  {
   "cell_type": "markdown",
   "metadata": {
    "colab_type": "text",
    "id": "dbp6fL9Ujkm1"
   },
   "source": [
    "Accordingly, the best k is 9"
   ]
  },
  {
   "cell_type": "markdown",
   "metadata": {
    "colab_type": "text",
    "id": "FVoK4nM5Qn-R"
   },
   "source": [
    "# OT1"
   ]
  },
  {
   "cell_type": "code",
   "execution_count": null,
   "metadata": {
    "colab": {},
    "colab_type": "code",
    "id": "qSmTdiHKTRZg"
   },
   "outputs": [],
   "source": [
    "def mse_error(img1, img2):\n",
    "  flatten1 = img1.reshape(-1)\n",
    "  flatten2 = img2.reshape(-1)\n",
    "  mse = 0\n",
    "  if len(img1) != len(img2):\n",
    "    return \n",
    "  else:\n",
    "    mse += np.sum(np.square(flatten1 - flatten2), axis=0)\n",
    "    mse /= len(flatten1)\n",
    "    return mse"
   ]
  },
  {
   "cell_type": "code",
   "execution_count": null,
   "metadata": {
    "colab": {
     "base_uri": "https://localhost:8080/",
     "height": 562
    },
    "colab_type": "code",
    "id": "LLdS1k_uWcwb",
    "outputId": "2167dca7-c2e2-4b6f-9e25-ad27ffcf5443"
   },
   "outputs": [],
   "source": [
    "# Reconstruction\n",
    "\n",
    "# hyperparameter\n",
    "k = 1\n",
    "num_image = 0\n",
    "\n",
    "def reconstruction(img, k = 10):\n",
    "  eig_val_gram, eig_vec_gram = np.linalg.eigh(gram_mat)\n",
    "  eig_val_gram = eig_val_gram[::-1]\n",
    "  eig_vec_gram = eig_vec_gram[:, ::-1]\n",
    "  \n",
    "  eig_vec_gram2cov = X_hat.dot(eig_vec_gram)\n",
    "\n",
    "  # normalize \n",
    "  for j in range(eig_vec_gram2cov.shape[1]):\n",
    "    eig_vec_gram2cov[:, j] = eig_vec_gram2cov[:, j] / np.linalg.norm(eig_vec_gram2cov[:, j], axis=0)\n",
    "  \n",
    "  projection_gram = eig_vec_gram2cov[:, :k].T.dot((img - meanface).reshape(-1, 1))\n",
    "  \n",
    "  reconstructed_img = eig_vec_gram2cov[:, :k].dot(projection_gram)\n",
    "\n",
    "  reconstructed_img = reconstructed_img.reshape(56, 46) + meanface\n",
    "  return reconstructed_img\n",
    "\n",
    "reconstructed_img = reconstruction(T[0])\n",
    "\n",
    "plt.title('Reconstruction')\n",
    "plt.imshow(reconstructed_img, cmap='gray')\n",
    "plt.show()\n",
    "\n",
    "plt.title('Original')\n",
    "plt.imshow(T[0], cmap='gray')\n",
    "plt.show()\n",
    "\n",
    "\n",
    "print('MSE (k=10) : ', mse_error(T[0], reconstructed_img))\n"
   ]
  },
  {
   "cell_type": "markdown",
   "metadata": {
    "colab_type": "text",
    "id": "NxOwLet8VPcH"
   },
   "source": [
    "# OT2"
   ]
  },
  {
   "cell_type": "code",
   "execution_count": null,
   "metadata": {
    "colab": {
     "base_uri": "https://localhost:8080/",
     "height": 295
    },
    "colab_type": "code",
    "id": "8Sz-z_SfVOUx",
    "outputId": "878c8eed-10e0-427e-9353-3340f7a2a9b9"
   },
   "outputs": [],
   "source": [
    "mse_list = []\n",
    "base = np.arange(1, 120)\n",
    "for i in range(1, 120):\n",
    "  reconstructed_img = reconstruction(T[0], k = i)\n",
    "  mse_list.append(mse_error(T[0], reconstructed_img))\n",
    "\n",
    "plt.title('MSE')  \n",
    "plt.xlabel('index of k')\n",
    "plt.ylabel('the value of mse')\n",
    "plt.plot(base, mse_list)\n",
    "plt.show()"
   ]
  },
  {
   "cell_type": "markdown",
   "metadata": {
    "colab_type": "text",
    "id": "yVdndDLHlvr7"
   },
   "source": [
    "# OT3"
   ]
  },
  {
   "cell_type": "markdown",
   "metadata": {
    "colab_type": "text",
    "id": "vuqLjhykkXAw"
   },
   "source": [
    "There are 10 eigenfaces.It means we will store 10x56x46x32 bit = 80x2576 bytes = 206080 bytes, There are 1,000,000 images and each images will contain 10 projection values.Thus, we will use 206,080 + 40,000,000 = 40,206,080 btyes.after that,There are a mean face.It will be stored as 2576x4 btyes. In summary,we will have to consume memory in database is 40,216,384 btyes"
   ]
  },
  {
   "cell_type": "markdown",
   "metadata": {
    "colab_type": "text",
    "id": "cvN7y3tLlxrV"
   },
   "source": [
    "# T21"
   ]
  },
  {
   "cell_type": "markdown",
   "metadata": {
    "colab_type": "text",
    "id": "fKxy2V7km5Xn"
   },
   "source": [
    "PCA we need to do full rank Sw has N - C eigenvalues = 120 - 40 = 80 eigenvalues.Therefore,PCA need to have 80 dimensions"
   ]
  },
  {
   "cell_type": "markdown",
   "metadata": {
    "colab_type": "text",
    "id": "on3INXYnoHZO"
   },
   "source": [
    "# T22"
   ]
  },
  {
   "cell_type": "code",
   "execution_count": null,
   "metadata": {
    "colab": {
     "base_uri": "https://localhost:8080/",
     "height": 128
    },
    "colab_type": "code",
    "id": "BDyFNE7LlxMc",
    "outputId": "106771e4-686a-47d1-cbd1-9d7c08e180e1"
   },
   "outputs": [],
   "source": [
    "num_classes = 120\n",
    "num_samples = 40\n",
    "mean_each_face = list()\n",
    "for i in range(T.shape[0] // 3):\n",
    "    mean_each_face.append(np.average(T[3*i:3*i+3], axis = 0))\n",
    "mean_each_face = np.array(mean_each_face)"
   ]
  },
  {
   "cell_type": "code",
   "execution_count": null,
   "metadata": {
    "colab": {},
    "colab_type": "code",
    "id": "T-nvuWFKec8P"
   },
   "outputs": [],
   "source": [
    "SB = list()\n",
    "for i in range(num_classes):\n",
    "    SB.append((mean_each_face[i] - meanface).dot((mean_each_face[i] - meanface).T))"
   ]
  },
  {
   "cell_type": "code",
   "execution_count": null,
   "metadata": {
    "colab": {},
    "colab_type": "code",
    "id": "qob_vI1UvIug"
   },
   "outputs": [],
   "source": [
    "SW = list()\n",
    "for i in range(num_classes):\n",
    "    temp = list()\n",
    "    for j in range(num_samples):\n",
    "        \n",
    "        "
   ]
  },
  {
   "cell_type": "code",
   "execution_count": null,
   "metadata": {},
   "outputs": [],
   "source": []
  },
  {
   "cell_type": "code",
   "execution_count": null,
   "metadata": {},
   "outputs": [],
   "source": []
  },
  {
   "cell_type": "code",
   "execution_count": null,
   "metadata": {},
   "outputs": [],
   "source": []
  }
 ],
 "metadata": {
  "colab": {
   "collapsed_sections": [],
   "name": "fisher_face.ipynb",
   "provenance": []
  },
  "kernelspec": {
   "display_name": "Python 3",
   "language": "python",
   "name": "python3"
  },
  "language_info": {
   "codemirror_mode": {
    "name": "ipython",
    "version": 3
   },
   "file_extension": ".py",
   "mimetype": "text/x-python",
   "name": "python",
   "nbconvert_exporter": "python",
   "pygments_lexer": "ipython3",
   "version": "3.6.8"
  }
 },
 "nbformat": 4,
 "nbformat_minor": 1
}
