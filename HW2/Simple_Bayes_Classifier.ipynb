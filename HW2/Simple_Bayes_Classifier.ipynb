{
 "cells": [
  {
   "cell_type": "code",
   "execution_count": 1,
   "metadata": {},
   "outputs": [],
   "source": [
    "import matplotlib.pyplot as plt\n",
    "import scipy.stats\n",
    "import numpy as np"
   ]
  },
  {
   "cell_type": "code",
   "execution_count": 2,
   "metadata": {},
   "outputs": [],
   "source": [
    "x_min = -16.0\n",
    "x_max = 25.0\n",
    "x = np.linspace(x_min, x_max, 100)\n",
    "prior = 0.5"
   ]
  },
  {
   "cell_type": "code",
   "execution_count": 3,
   "metadata": {},
   "outputs": [],
   "source": [
    "# def find_intersect_norm(m1,m2,std1,std2):\n",
    "#   a = 1/(2*std1**2) - 1/(2*std2**2)\n",
    "#   b = m2/(std2**2) - m1/(std1**2)\n",
    "#   c = m1**2 /(2*std1**2) - m2**2 / (2*std2**2) - np.log(std2/std1)\n",
    "#   return np.roots([a,b,c])\n"
   ]
  },
  {
   "cell_type": "code",
   "execution_count": 4,
   "metadata": {},
   "outputs": [],
   "source": [
    "mean1 = 5.0\n",
    "std1 = 2.0\n",
    "\n",
    "y1 = scipy.stats.norm.pdf(x, mean1, std1)\n",
    "y1 *= prior"
   ]
  },
  {
   "cell_type": "code",
   "execution_count": 5,
   "metadata": {},
   "outputs": [],
   "source": [
    "mean2 = 0.0\n",
    "std2 = 2.0\n",
    "y2 =scipy.stats.norm.pdf(x, mean2, std2)\n",
    "y2 *= prior"
   ]
  },
  {
   "cell_type": "code",
   "execution_count": 6,
   "metadata": {},
   "outputs": [
    {
     "ename": "NameError",
     "evalue": "name 'find_intersect_norm' is not defined",
     "output_type": "error",
     "traceback": [
      "\u001b[1;31m---------------------------------------------------------------------------\u001b[0m",
      "\u001b[1;31mNameError\u001b[0m                                 Traceback (most recent call last)",
      "\u001b[1;32m<ipython-input-6-53dcf1a3baa6>\u001b[0m in \u001b[0;36m<module>\u001b[1;34m\u001b[0m\n\u001b[1;32m----> 1\u001b[1;33m \u001b[0mintersection_line\u001b[0m \u001b[1;33m=\u001b[0m \u001b[0mfind_intersect_norm\u001b[0m\u001b[1;33m(\u001b[0m\u001b[0mmean1\u001b[0m\u001b[1;33m,\u001b[0m \u001b[0mmean2\u001b[0m\u001b[1;33m,\u001b[0m \u001b[0mstd1\u001b[0m\u001b[1;33m,\u001b[0m \u001b[0mstd2\u001b[0m\u001b[1;33m)\u001b[0m\u001b[1;33m\u001b[0m\u001b[1;33m\u001b[0m\u001b[0m\n\u001b[0m\u001b[0;32m      2\u001b[0m \u001b[0mprint\u001b[0m\u001b[1;33m(\u001b[0m\u001b[0mintersection_line\u001b[0m\u001b[1;33m)\u001b[0m\u001b[1;33m\u001b[0m\u001b[1;33m\u001b[0m\u001b[0m\n",
      "\u001b[1;31mNameError\u001b[0m: name 'find_intersect_norm' is not defined"
     ]
    }
   ],
   "source": [
    "intersection_line = find_intersect_norm(mean1, mean2, std1, std2)\n",
    "print(intersection_line)"
   ]
  },
  {
   "cell_type": "code",
   "execution_count": 10,
   "metadata": {},
   "outputs": [
    {
     "data": {
      "image/png": "[encoded data removed]",
      "text/plain": [
       "<Figure size 432x288 with 1 Axes>"
      ]
     },
     "metadata": {
      "needs_background": "light"
     },
     "output_type": "display_data"
    }
   ],
   "source": [
    "plt.plot(x, y1)\n",
    "plt.plot(x, y2)\n",
    "plt.grid()\n",
    "\n",
    "# plt.fill_between(x, y1,0)\n",
    "# plt.fill_between(x, y2,0)\n",
    "#plt.fill_between(x, y2, y1)\n",
    "#plt.axvline(x=intersection_line[1], ymin=0, ymax=intersection_line[0])\n",
    "\n",
    "# ax.fill_between(x, y1, y2, where=y2>=y1, facecolor='darkblue', interpolate=True)\n",
    "#plt.fill_between(x, y1, y2, where=y2>=y1, facecolor='deeppink', interpolate=True)\n",
    "\n",
    "# plt.xlim(x_min, x_max)\n",
    "# plt.ylim(0, 0.25)\n",
    "\n",
    "plt.savefig('./T2.png')\n",
    "\n"
   ]
  },
  {
   "cell_type": "code",
   "execution_count": 8,
   "metadata": {},
   "outputs": [],
   "source": [
    "prior2 = 0.5 \n",
    "\n",
    "mean3 = 5.0\n",
    "std3 = 2.0\n",
    "y3 = scipy.stats.norm.pdf(x, mean3, std3)\n",
    "y3 *= prior2"
   ]
  },
  {
   "cell_type": "code",
   "execution_count": 12,
   "metadata": {},
   "outputs": [],
   "source": [
    "mean4 = 0.0\n",
    "std4 = 4.0\n",
    "y4 = scipy.stats.norm.pdf(x, mean4, std4)\n",
    "y4 *= 0.5"
   ]
  },
  {
   "cell_type": "code",
   "execution_count": 13,
   "metadata": {},
   "outputs": [
    {
     "data": {
      "image/png": "[encoded data removed]",
      "text/plain": [
       "<Figure size 432x288 with 1 Axes>"
      ]
     },
     "metadata": {
      "needs_background": "light"
     },
     "output_type": "display_data"
    }
   ],
   "source": [
    "plt.plot(x, y3)\n",
    "plt.plot(x, y4)\n",
    "plt.grid()\n",
    "\n",
    "plt.savefig('./T3.png')\n"
   ]
  },
  {
   "cell_type": "code",
   "execution_count": 17,
   "metadata": {},
   "outputs": [
    {
     "data": {
      "text/plain": [
       "2.735525571506237"
      ]
     },
     "execution_count": 17,
     "metadata": {},
     "output_type": "execute_result"
    }
   ],
   "source": [
    "import math\n",
    "10 - (50 + 4 * math.log(2, math.e))**0.5"
   ]
  },
  {
   "cell_type": "code",
   "execution_count": null,
   "metadata": {},
   "outputs": [],
   "source": [
    "x = np.linspace(x_min, x_max, 10)\n",
    "y5 = scipy.stats.norm.pdf(x, mean5, std5)"
   ]
  }
 ],
 "metadata": {
  "kernelspec": {
   "display_name": "Python 3",
   "language": "python",
   "name": "python3"
  },
  "language_info": {
   "codemirror_mode": {
    "name": "ipython",
    "version": 3
   },
   "file_extension": ".py",
   "mimetype": "text/x-python",
   "name": "python",
   "nbconvert_exporter": "python",
   "pygments_lexer": "ipython3",
   "version": "3.6.8"
  }
 },
 "nbformat": 4,
 "nbformat_minor": 2
}
