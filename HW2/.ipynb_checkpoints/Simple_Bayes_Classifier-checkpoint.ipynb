{
 "cells": [
  {
   "cell_type": "code",
   "execution_count": 2,
   "metadata": {},
   "outputs": [],
   "source": [
    "import matplotlib.pyplot as plt\n",
    "import scipy.stats\n",
    "import numpy as np"
   ]
  },
  {
   "cell_type": "code",
   "execution_count": 3,
   "metadata": {},
   "outputs": [],
   "source": [
    "x_min = -16.0\n",
    "x_max = 15.0\n",
    "x = np.linspace(x_min, x_max, 100)"
   ]
  },
  {
   "cell_type": "code",
   "execution_count": 7,
   "metadata": {},
   "outputs": [],
   "source": [
    "def find_intersect_norm(m1,m2,std1,std2):\n",
    "  a = 1/(2*std1**2) - 1/(2*std2**2)\n",
    "  b = m2/(std2**2) - m1/(std1**2)\n",
    "  c = m1**2 /(2*std1**2) - m2**2 / (2*std2**2) - np.log(std2/std1)\n",
    "  return np.roots([a,b,c])\n"
   ]
  },
  {
   "cell_type": "code",
   "execution_count": 4,
   "metadata": {},
   "outputs": [],
   "source": [
    "mean1 = 5.0\n",
    "std1 = 2.0\n",
    "y1 = scipy.stats.norm.pdf(x, mean1, std1)"
   ]
  },
  {
   "cell_type": "code",
   "execution_count": 18,
   "metadata": {},
   "outputs": [],
   "source": [
    "mean2 = 0.0\n",
    "std2 = 2.0\n",
    "y2 =scipy.stats.norm.pdf(x, mean2, std2)"
   ]
  },
  {
   "cell_type": "code",
   "execution_count": 12,
   "metadata": {},
   "outputs": [
    {
     "name": "stdout",
     "output_type": "stream",
     "text": [
      "[10.96837343  2.36495991]\n"
     ]
    }
   ],
   "source": [
    "intersection_line = find_intersect_norm(mean1, mean2, std1, std2)\n",
    "print(intersection_line)"
   ]
  },
  {
   "cell_type": "code",
   "execution_count": 19,
   "metadata": {},
   "outputs": [
    {
     "data": {
      "image/png": "[encoded data removed]",
      "text/plain": [
       "<Figure size 432x288 with 1 Axes>"
      ]
     },
     "metadata": {
      "needs_background": "light"
     },
     "output_type": "display_data"
    }
   ],
   "source": [
    "plt.plot(x, y1)\n",
    "plt.plot(x, y2)\n",
    "plt.grid()\n",
    "\n",
    "# plt.fill_between(x, y1,0)\n",
    "# plt.fill_between(x, y2,0)\n",
    "#plt.fill_between(x, y2, y1)\n",
    "plt.axvline(x=intersection_line[1], ymin=0, ymax=intersection_line[0])\n",
    "\n",
    "# ax.fill_between(x, y1, y2, where=y2>=y1, facecolor='darkblue', interpolate=True)\n",
    "#plt.fill_between(x, y1, y2, where=y2>=y1, facecolor='deeppink', interpolate=True)\n",
    "\n",
    "plt.xlim(x_min, x_max)\n",
    "plt.ylim(0, 0.25)\n",
    "\n",
    "plt.show()\n"
   ]
  },
  {
   "cell_type": "code",
   "execution_count": 9,
   "metadata": {},
   "outputs": [
    {
     "data": {
      "text/plain": [
       "array([10.96837343,  2.36495991])"
      ]
     },
     "execution_count": 9,
     "metadata": {},
     "output_type": "execute_result"
    }
   ],
   "source": []
  },
  {
   "cell_type": "code",
   "execution_count": null,
   "metadata": {},
   "outputs": [],
   "source": []
  },
  {
   "cell_type": "code",
   "execution_count": null,
   "metadata": {},
   "outputs": [],
   "source": []
  },
  {
   "cell_type": "code",
   "execution_count": null,
   "metadata": {},
   "outputs": [],
   "source": []
  }
 ],
 "metadata": {
  "kernelspec": {
   "display_name": "Python 3",
   "language": "python",
   "name": "python3"
  },
  "language_info": {
   "codemirror_mode": {
    "name": "ipython",
    "version": 3
   },
   "file_extension": ".py",
   "mimetype": "text/x-python",
   "name": "python",
   "nbconvert_exporter": "python",
   "pygments_lexer": "ipython3",
   "version": "3.6.8"
  }
 },
 "nbformat": 4,
 "nbformat_minor": 2
}
